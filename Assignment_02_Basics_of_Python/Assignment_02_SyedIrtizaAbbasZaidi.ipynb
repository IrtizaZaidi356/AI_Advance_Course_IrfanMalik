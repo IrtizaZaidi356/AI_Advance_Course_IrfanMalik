{
  "cells": [
    {
      "cell_type": "markdown",
      "metadata": {
        "id": "uz317N_iAEEg"
      },
      "source": [
        "# **`Assignment No # 02 | Basic of Python`**\n",
        "## **`Hope to Skills`**\n",
        "## **Free Artificial Intelligence Advance Course**\n",
        "##### **Instructor: `Sir Irfan Malik`, `Sir Dr. Sheraz`**\n",
        "\n",
        "##### ***Name: `SYED IRTIZA ABBAS ZAIDI`***\n",
        "---"
      ]
    },
    {
      "cell_type": "markdown",
      "metadata": {
        "id": "4qMUuTJMAEEw"
      },
      "source": [
        "### **Solve the Tasks:**\n",
        "\n",
        "#### **01) Write a program that takes a `string` as `input` and counts the number of `vowels` and `consonants` in the `string`.**\n",
        "\n",
        " - Input: Hello, World!\n",
        " - Output:\n",
        "    - Number of vowels: 3\n",
        "    - Number of consonants: 7"
      ]
    },
    {
      "cell_type": "code",
      "execution_count": 32,
      "metadata": {
        "colab": {
          "base_uri": "https://localhost:8080/"
        },
        "id": "J1D9e4wQAEEx",
        "outputId": "6d6bf92c-9c6a-4d9a-a575-f6c9d5b066ae"
      },
      "outputs": [
        {
          "name": "stdout",
          "output_type": "stream",
          "text": [
            "String is: Hello, World!\n",
            "Number of Vowels:  3\n",
            "Number of Consonants:  7\n"
          ]
        }
      ],
      "source": [
        "def count_vowels_consonants(input_str):\n",
        "    vowels = \"aeiuoAEIOU\"\n",
        "    num_vowels = 0\n",
        "    num_consonants = 0\n",
        "    \n",
        "    for char in input_str:\n",
        "        # check if character is a letter (not a number or special character)\n",
        "        if char.isalpha():\n",
        "            if char in vowels:\n",
        "                num_vowels += 1\n",
        "            else:\n",
        "                num_consonants += 1\n",
        "    \n",
        "    print(\"Number of Vowels: \", num_vowels)\n",
        "    print(\"Number of Consonants: \", num_consonants)\n",
        "\n",
        "# Take input from the user\n",
        "input_str = input(\"Enter a String:\")\n",
        "print(\"String is:\" ,input_str)\n",
        "\n",
        "#  Call the function to count vowels and consonants\n",
        "count_vowels_consonants(input_str)\n"
      ]
    },
    {
      "cell_type": "markdown",
      "metadata": {
        "id": "DpHAWSs9AEEy"
      },
      "source": [
        "---\n",
        "\n",
        "#### **02) Write a Python program that accepts a `filename` from the `user` and `prints` the `extension` of the `file`**\n",
        "\n",
        " -  Sample filename: document.docx\n",
        " - Output: docx"
      ]
    },
    {
      "cell_type": "code",
      "execution_count": 33,
      "metadata": {
        "colab": {
          "base_uri": "https://localhost:8080/"
        },
        "id": "wW4XJrSwAEEz",
        "outputId": "bd8e82cd-e8a5-4b83-e2c7-9856dd3d31e0"
      },
      "outputs": [
        {
          "name": "stdout",
          "output_type": "stream",
          "text": [
            "File Name is:  document.docx\n",
            "File Extension: docx\n"
          ]
        }
      ],
      "source": [
        "def get_file_extension(filename):\n",
        "    # Split the filename into part using dot as a separator\n",
        "    parts = filename.split('.')\n",
        "    \n",
        "    # Check if there is at least one dot in the filename\n",
        "    if  len(parts) > 1:\n",
        "        # The Last part after the last dot is the file extension\n",
        "        extension =  parts[-1]\n",
        "        print(\"File Extension:\", extension)\n",
        "    else:\n",
        "        print(\"No file extension found.\")\n",
        "\n",
        "# Take input from the user\n",
        "filename = input(\"Enter a filename: \")\n",
        "print(\"File Name is: \",filename)\n",
        "\n",
        "# Call the function to get and print the file extension\n",
        "get_file_extension(filename)"
      ]
    },
    {
      "cell_type": "markdown",
      "metadata": {
        "id": "vdJlBZGSAEEz"
      },
      "source": [
        "---\n",
        "\n",
        "#### **03) Write a Python program to check if value `200` exists in the following `dictionary`**\n",
        " - Sample_dict = {'a': 100, 'b': 200, 'c': 300}"
      ]
    },
    {
      "cell_type": "code",
      "execution_count": 34,
      "metadata": {
        "colab": {
          "base_uri": "https://localhost:8080/"
        },
        "id": "ayTuFdbpAEE0",
        "outputId": "e2996f26-2940-4277-8990-8213b638f287"
      },
      "outputs": [
        {
          "name": "stdout",
          "output_type": "stream",
          "text": [
            "Sample Dictionary: {'a': 100, 'b': 200, 'c': 300}\n",
            "The value 200 is present in the dictionary.\n"
          ]
        }
      ],
      "source": [
        "sample_dict = {\"a\" : 100, \"b\" : 200, \"c\" : 300}\n",
        "check_value = 200\n",
        "\n",
        "print(\"Sample Dictionary:\",sample_dict)\n",
        "if  check_value in sample_dict.values():\n",
        "    print(f\"The value {check_value} is present in the dictionary.\")\n",
        "else:\n",
        "    print(f\"The  value {check_value} is not present in the dictionary.\")"
      ]
    },
    {
      "cell_type": "markdown",
      "metadata": {
        "id": "nrWC0383AEE0"
      },
      "source": [
        "---\n",
        "\n",
        "#### **04) The given `tuple` is a `nested tuple`. Write a Python program to `print` the `value 20`.**\n",
        " - tuple1 = (\"Orange\", [10, 20, 30], (5, 15, 25))\n"
      ]
    },
    {
      "cell_type": "code",
      "execution_count": 35,
      "metadata": {
        "colab": {
          "base_uri": "https://localhost:8080/"
        },
        "id": "c9yMAZu_AEE0",
        "outputId": "e27f8c6d-8d7e-4201-eca9-22ca56f1c15c"
      },
      "outputs": [
        {
          "name": "stdout",
          "output_type": "stream",
          "text": [
            "Tuple is:  ('Orange', [10, 20, 30], (5, 15, 25))\n",
            "The value 20 is, 20 in the Tuple.\n"
          ]
        }
      ],
      "source": [
        "tuple1 = (\"Orange\", [10, 20, 30], (5, 15, 25))\n",
        "print(\"Tuple is: \",tuple1)\n",
        "#accessing the second element of the list inside the tuple\n",
        "value_20 = tuple1[1][1]  \n",
        "print(f\"The value 20 is, {value_20} in the Tuple.\")"
      ]
    },
    {
      "cell_type": "markdown",
      "metadata": {
        "id": "CO8vH_omAEE1"
      },
      "source": [
        "---\n",
        "\n",
        "#### **05) Write a Python program that calculates the `Body Mass Index (BMI)` for a person based on their `weight (in kilograms)` and `height (in meters)`. The `BMI` is calculated using the following formula:**\n",
        " - **BMI = (weight) / (height ^ 2)**\n",
        "\n",
        " - **Instructions:**\n",
        "   - Prompt the `user` to `enter` their `weight` in `kilograms`.\n",
        "   - Prompt the `user` to `enter` their `height` in `meters`.\n",
        "   - Calculate the `BMI` using the provided formula.\n",
        "   - Display the calculated `BMI` to the user.\n",
        "\n",
        " - **Additionally**, provide an interpretation of the BMI according to the following categories:\n",
        "    \n",
        "    ● BMI < 18.5: Underweight\n",
        "\n",
        "    ● 18.5 <= BMI < 25: Normal weight\n",
        "\n",
        "    ● 25 <= BMI < 30: Overweight\n",
        "    \n",
        "    ● BMI >= 30: Obese"
      ]
    },
    {
      "cell_type": "code",
      "execution_count": 37,
      "metadata": {
        "colab": {
          "base_uri": "https://localhost:8080/"
        },
        "id": "NcsLfGO6AEE2",
        "outputId": "744a8d77-c717-4dbb-ac80-66e9bccc4a7c"
      },
      "outputs": [
        {
          "name": "stdout",
          "output_type": "stream",
          "text": [
            "Weight is:  90.0\n",
            "Height is:  6.7\n",
            "Your BMI is:  2.0049008687903767\n",
            "Category:   Under Weight \n"
          ]
        }
      ],
      "source": [
        "# Prompt the user to enter their weight in kilograms.\n",
        "weight = float(input(\"Enter your Weight in Kilograms: \"))\n",
        "\n",
        "# Prompt the user to enter their height in meters.\n",
        "height = float(input(\"Enter your Height in meters: \"))\n",
        "\n",
        "# Calcalate the BMI using the provided formula\n",
        "BMI =  (weight) / (height**2)\n",
        "\n",
        "# BMI Category\n",
        "if BMI < 18.5:\n",
        "    category = \" Under Weight \"\n",
        "elif 18.5 <= BMI < 25:\n",
        "    category = \" Normal Weight \"\n",
        "elif 25 <= BMI < 30:\n",
        "    category = \" Over Wight \"\n",
        "else:\n",
        "    category =  \" Obese \"\n",
        "\n",
        "#Print Weight and Height:\n",
        "print(\"Weight is: \", weight)\n",
        "print(\"Height is: \", height)    \n",
        "# Display the BMI & Category:\n",
        "print(\"Your BMI is: \", BMI)\n",
        "print(\"Category: \", category)"
      ]
    },
    {
      "cell_type": "markdown",
      "metadata": {
        "id": "_zpApW8cAEE3"
      },
      "source": [
        "---\n",
        "\n",
        "#### **06) Write a Python program that prompts the `user` to `input` a string. The program should `count the frequency` of each `character` in the `string` and then print the result as a `dictionary`.**\n",
        "\n",
        "#### **Example:**\n",
        " - If the user enters **`\"hello\"`** , the program should output **`{'h': 1, 'e': 1, 'l': 2, 'o': 1}`** indicating that `'h'` appears once, `'e'` appears once, `'l'` appears twice, and `'o'` appears once in the input string."
      ]
    },
    {
      "cell_type": "code",
      "execution_count": 38,
      "metadata": {
        "colab": {
          "base_uri": "https://localhost:8080/"
        },
        "id": "BqhxZhCaAEE3",
        "outputId": "39b2acff-16d1-4d2c-daf7-2abfea70fb4f"
      },
      "outputs": [
        {
          "name": "stdout",
          "output_type": "stream",
          "text": [
            "String is:  hello\n",
            "Character Frequencies:  {'h': 1, 'e': 1, 'l': 2, 'o': 1}\n"
          ]
        }
      ],
      "source": [
        "# Prompt user for input string:\n",
        "input_string = input(\"Enter a String: \")\n",
        "print(\"String is: \", input_string)\n",
        "\n",
        "# Initialize an empty dictionary to store character frequencies:\n",
        "char_frequencies = {}\n",
        "\n",
        "# Count the frequency of each character in the input string:\n",
        "for char in input_string:\n",
        "    # Increment the count if the character is already in the dictionary, otherwise, initialize it to 1:\n",
        "    char_frequencies[char] = char_frequencies.get(char, 0) + 1\n",
        "    \n",
        "# Print the result as a dictionary:\n",
        "print(\"Character Frequencies: \", char_frequencies)"
      ]
    },
    {
      "cell_type": "markdown",
      "metadata": {
        "id": "VAVExlxnAEE4"
      },
      "source": [
        "---\n",
        "\n",
        "#### **07) Write a Python program that takes a `string input` from the `user` and `checks` if it is a `valid email address`. If it is `valid`, print `\"Valid email address\"`, otherwise print `\"Invalid email address\"`.**\n",
        "\n",
        " - **`Hint:`** Check if the string contains “**`@`**” and ends with “**`.net`**”, or “**`.com`**” to **`check validity`**. \n",
        " - **`Example:`** If the **`email`** is “**`abc@example.com`**”, then it is a **`valid email`**, otherwise an **`Invalid email`**.\n"
      ]
    },
    {
      "cell_type": "code",
      "execution_count": 39,
      "metadata": {
        "colab": {
          "base_uri": "https://localhost:8080/"
        },
        "id": "yBCLTSWnAEE4",
        "outputId": "cf2a9677-046a-4d87-d42d-7089eabea39c"
      },
      "outputs": [
        {
          "name": "stdout",
          "output_type": "stream",
          "text": [
            "Your Email: abc@example.com is Valid Email Address.\n"
          ]
        }
      ],
      "source": [
        "def is_valid_email(email):\n",
        "    # Check if the string contain \"@\" and ends with \".net\" or \".com\":\n",
        "    if \"@\" in email and (email.endswith(\".net\")) or (email.endswith(\".com\")):\n",
        "        return True\n",
        "    else:\n",
        "        return False\n",
        "\n",
        "# Prompt user for input email:\n",
        "email_input = input(\"Please Enter an Email Address: \")\n",
        "\n",
        "# Check if the email is valid and print the result:\n",
        "if is_valid_email(email_input):\n",
        "    print(f\"Your Email: {email_input} is Valid Email Address.\")\n",
        "else:\n",
        "    print(f\"Sorry, Your Email: {email_input} is not a Valid Email Address.\")"
      ]
    },
    {
      "cell_type": "markdown",
      "metadata": {
        "id": "dX4BtHsJAEE4"
      },
      "source": [
        "---\n",
        "\n",
        "#### **08) Given a `tuple` of tuples, write a Python program to print the `sum of the elements` in each `inner tuple`.**\n",
        "\n",
        " - **Input:** ((1, 2, 3), (4, 5, 6), (7, 8, 9))\n",
        " - **Output:** 6, 15, 24"
      ]
    },
    {
      "cell_type": "code",
      "execution_count": 40,
      "metadata": {
        "colab": {
          "base_uri": "https://localhost:8080/"
        },
        "id": "5DXoig0fAEE5",
        "outputId": "330be964-a594-4f5e-abc3-4c0f94936229"
      },
      "outputs": [
        {
          "name": "stdout",
          "output_type": "stream",
          "text": [
            "6, 15, 24\n"
          ]
        }
      ],
      "source": [
        "# Given tuple of tuples:\n",
        "tuples1 = ((1,2,3),(4,5,6),(7,8,9))\n",
        "\n",
        "# Calculate and print the sum of elements in each inner tuple:\n",
        "for inner_tuple in tuples1:\n",
        "    # Use the sum() function to calculate the sum of element in each inner tuple:\n",
        "    inner_sum =  sum(inner_tuple)\n",
        "    print(inner_sum, end=\", \")\n",
        "\n",
        "# Output formatting - remove the trailing comma and space.\n",
        "print(\"\\b\\b\")"
      ]
    },
    {
      "cell_type": "markdown",
      "metadata": {},
      "source": [
        "---\n",
        "\n",
        "#### **09) Create a list containing the `10 numbers`. Print the first `Three prime numbers` from the `list`.**\n",
        "\n",
        " - **`Expected Output:`** List of the first three prime numbers: [2, 3, 5]"
      ]
    },
    {
      "cell_type": "code",
      "execution_count": 41,
      "metadata": {},
      "outputs": [
        {
          "name": "stdout",
          "output_type": "stream",
          "text": [
            "The first three prime numbers are :  [2, 3, 5]\n"
          ]
        }
      ],
      "source": [
        "def is_prime(number):\n",
        "    # Function to check if a number is prime\n",
        "    if number < 2:\n",
        "        return False\n",
        "    for i in range(2, int(number ** 0.5) + 1):\n",
        "        if  number % i == 0:\n",
        "            return False\n",
        "    return True\n",
        "\n",
        "# Create a list containing the first 10 numbers\n",
        "numbers_list = list(range(1,11))\n",
        "\n",
        "# Filter the list to get the first three prime numbers\n",
        "prime_numbers = [num for num in numbers_list if is_prime(num)][:3]\n",
        "\n",
        "# Print the prime numbers\n",
        "print(\"The first three prime numbers are : \", prime_numbers)"
      ]
    },
    {
      "cell_type": "markdown",
      "metadata": {},
      "source": [
        "---\n",
        "\n",
        "#### **10) Given a list of dictionaries representing `students' information (name, age, grade),` Write a Python program to `sort` the `students` based on their `grades` in `descending orde`r and print the sorted list.**\n",
        "\n",
        " Dictionary: [\n",
        " \n",
        " {\"name\": \"John\", \"age\": 20, \"grade\": 85},\n",
        "\n",
        " {\"name\": \"Alice\", \"age\": 22, \"grade\": 90},\n",
        "\n",
        " {\"name\": \"Bob\", \"age\": 21, \"grade\": 80}\n",
        " \n",
        "]"
      ]
    },
    {
      "cell_type": "code",
      "execution_count": 42,
      "metadata": {},
      "outputs": [
        {
          "name": "stdout",
          "output_type": "stream",
          "text": [
            "Sorted list based on Grades in descending order:\n",
            "{'Name': 'Alice', 'Age': 22, 'Grade': 90}\n",
            "{'Name': 'John', 'Age': 20, 'Grade': 85}\n",
            "{'Name': 'Bob', 'Age': 21, 'Grade': 80}\n"
          ]
        }
      ],
      "source": [
        "# Given list of dictionaries representing student's information:\n",
        "students_info = [\n",
        "    {\"Name\": \"John\", \"Age\": 20, \"Grade\": 85},\n",
        "    {\"Name\": \"Alice\", \"Age\": 22, \"Grade\": 90},\n",
        "    {\"Name\": \"Bob\", \"Age\": 21, \"Grade\": 80}\n",
        "]\n",
        "\n",
        "# Sort the list of dictionaries based on the \"Grade\" key in descending order:\n",
        "sorted_students = sorted(students_info, key=lambda x: x[\"Grade\"], reverse=True)\n",
        "\n",
        "# Print the Sorted List\n",
        "print(\"Sorted list based on Grades in descending order:\")\n",
        "for student in sorted_students:\n",
        "    print(student)"
      ]
    },
    {
      "cell_type": "markdown",
      "metadata": {},
      "source": [
        "---\n",
        "\n",
        "#### **11) Create a program that takes a `list of multiple numbers `separated with `commas (,)` from the `user` and finds the `total number` of `unique values` in the `list` and also `prints` them.**\n",
        "\n",
        "**`Expected_format:`**\n",
        "   - Total number of unique values: 6\n",
        "   - Unique values in the list: [1, 2, 3, 4, 5, 6]"
      ]
    },
    {
      "cell_type": "code",
      "execution_count": 43,
      "metadata": {},
      "outputs": [
        {
          "name": "stdout",
          "output_type": "stream",
          "text": [
            "\n",
            "Total Number of Unique Values: 6\n",
            "Unique Values in the list:  [1, 2, 3, 4, 5, 6]\n"
          ]
        }
      ],
      "source": [
        "# Take input from the user:\n",
        "input_numbers = input(\"Enter a list of multiple numbers separated by commas: \")\n",
        "\n",
        "# Split the input string into a list of string:\n",
        "numbers_list = input_numbers.split(\",\")\n",
        "\n",
        "# Convert the list of strings to a list of integers\n",
        "numbers_list = [int(num) for num in numbers_list]\n",
        "\n",
        "# Find the total number of unique values and the unique values:\n",
        "total_num_unique_values = len(set(numbers_list))\n",
        "num_unique_values = list(set(numbers_list))\n",
        "\n",
        "# Print the results\n",
        "print(\"\\nTotal Number of Unique Values:\", total_num_unique_values)\n",
        "print(\"Unique Values in the list: \", num_unique_values)"
      ]
    },
    {
      "cell_type": "markdown",
      "metadata": {},
      "source": [
        "---\n",
        "\n",
        "#### **12) Write a program that takes `two lists` as input and returns a `new list` containing elements that are `common` to `both lists.` (Hint: Use list methods to implement this.)**\n",
        "\n",
        "**`Input Lists:`**\n",
        "\n",
        "  - List 1: [1, 2, 3, 4, 5]\n",
        "\n",
        "  - List 2: [4, 5, 6, 7, 8]\n",
        "\n",
        "  - Common Elements: [4, 5]"
      ]
    },
    {
      "cell_type": "code",
      "execution_count": 44,
      "metadata": {},
      "outputs": [
        {
          "name": "stdout",
          "output_type": "stream",
          "text": [
            "Common elements in both lists are:\n",
            "Common Elements:  [4, 5]\n"
          ]
        }
      ],
      "source": [
        "list1 = [1, 2, 3, 4, 5]\n",
        "list2 = [4, 5, 6, 7, 8]\n",
        "\n",
        "def find_common_elements(list1, list2):\n",
        "    # Use set intersection to find common elements:\n",
        "    common_elements = list(set(list1) & set(list2))\n",
        "    return common_elements\n",
        "\n",
        "print(\"Common elements in both lists are:\")\n",
        "common_elements = find_common_elements(list1, list2)\n",
        "print(\"Common Elements: \", common_elements)\n"
      ]
    },
    {
      "cell_type": "markdown",
      "metadata": {},
      "source": [
        "---\n",
        "\n",
        "#### **13) Write a program that takes `two dictionaries` as input and `merges` them into a `new dictionary`. If there are `common keys`, `combine` their `values`.**\n",
        "\n",
        " - dict1= {‘a’:5, ‘b’:10, ‘c’:15}\n",
        "\n",
        " - dict2= {‘b’:20, ‘c’:25, ‘d’:30}\n",
        "\n",
        "**`Output:`** {'a': 5, 'b': 30, 'c': 40, 'd': 30}"
      ]
    },
    {
      "cell_type": "code",
      "execution_count": 45,
      "metadata": {},
      "outputs": [
        {
          "name": "stdout",
          "output_type": "stream",
          "text": [
            "Dictionary 1 :  {'a': 5, 'b': 10, 'c': 15}\n",
            "Dictionary 2 :  {'b': 20, 'c': 25, 'd': 30}\n",
            "The Merged Dictionary is :  {'a': 5, 'b': 30, 'c': 40, 'd': 30}\n"
          ]
        }
      ],
      "source": [
        "def merge_dictionaries(dict1, dict2):\n",
        "    merged_dict = dict1.copy()\n",
        "    \n",
        "    for key, value in dict2.items():\n",
        "        if key in merged_dict:\n",
        "            # If the key is common combine the values\n",
        "            merged_dict[key] += value\n",
        "        else:\n",
        "            # If the key is not in the first dictionary, add it with its value\n",
        "            merged_dict[key] = value\n",
        "    \n",
        "    return merged_dict\n",
        "\n",
        "# Dictionaries\n",
        "dict1 = {'a':5, \"b\":10, \"c\":15}\n",
        "dict2 = {'b':20, \"c\":25, \"d\":30}\n",
        "\n",
        "# Print Two  dictionaries before merging\n",
        "print(\"Dictionary 1 : \", dict1)\n",
        "print(\"Dictionary 2 : \", dict2)\n",
        "\n",
        "# Merge the dictionaries\n",
        "result_dict = merge_dictionaries(dict1, dict2)\n",
        "\n",
        "# Print the result\n",
        "print(\"The Merged Dictionary is : \", result_dict)"
      ]
    },
    {
      "cell_type": "markdown",
      "metadata": {},
      "source": [
        "---\n",
        "\n",
        "#### **14) Write a program that takes `two numbers, base` and `exponent`, and `calculates` the `result` of raising `base` to the `power of exponent` using the `** operator.`**\n",
        "\n",
        "  - **Input: Base:** 2\n",
        "\n",
        "  - **Exponent:** 3\n",
        "\n",
        "  - **Result:** 8\n"
      ]
    },
    {
      "cell_type": "code",
      "execution_count": 46,
      "metadata": {},
      "outputs": [
        {
          "name": "stdout",
          "output_type": "stream",
          "text": [
            "\n",
            "The Result of 2.0 raised to the power of 3.0 is equal to: 8.00\n"
          ]
        }
      ],
      "source": [
        "base = float(input(\"Enter the Base: \"))\n",
        "exponent = float(input(\"Enter the Exponent: \"))\n",
        "\n",
        "# Calculate the result using the ** operator\n",
        "result = base**exponent\n",
        "print(\"\\nThe Result of {} raised to the power of {} is equal to: {:.2f}\".format(base, exponent, result))"
      ]
    },
    {
      "cell_type": "markdown",
      "metadata": {},
      "source": [
        "---\n",
        "\n",
        "#### **15) Write a program that takes a `temperature` in `Celsius` as `input` and `converts` it to `Fahrenheit` using the `formula`?**\n",
        "\n",
        " - **`Fahrenheit = (Celsius * 9/5) + 32.`** "
      ]
    },
    {
      "cell_type": "code",
      "execution_count": 48,
      "metadata": {},
      "outputs": [
        {
          "name": "stdout",
          "output_type": "stream",
          "text": [
            "34.5 degrees Celsius is equal to 94.10 degrees Fahrenheit.\n"
          ]
        }
      ],
      "source": [
        "# Take input from the user:\n",
        "celsius_temperature = float(input(f\"Enter temperature in Celsius: \"))\n",
        "\n",
        "# Convert Celsius to Fahrenheit using formula (C * 9/5) + 32\n",
        "fahrenheit_temperature = (celsius_temperature * 9 / 5) + 32\n",
        "\n",
        "# Print the result\n",
        "print(\"{} degrees Celsius is equal to {:.2f} degrees Fahrenheit.\".format(celsius_temperature, fahrenheit_temperature))"
      ]
    },
    {
      "cell_type": "markdown",
      "metadata": {},
      "source": [
        "---\n",
        "\n",
        "#### **16) Write a Python program to `reverse` a `list` without using `built-in functions`.**"
      ]
    },
    {
      "cell_type": "code",
      "execution_count": 49,
      "metadata": {},
      "outputs": [
        {
          "name": "stdout",
          "output_type": "stream",
          "text": [
            "The original list is:  [1, 2, 3, 4, 5, 6]\n",
            "The reversed list is : [6, 5, 4, 3, 2, 1]\n"
          ]
        }
      ],
      "source": [
        "def reverse_list(input_list):\n",
        "    # Get the length of the list\n",
        "    list_length = len(input_list)\n",
        "    \n",
        "    # Iterate over the first half of the list\n",
        "    for i in range(list_length // 2):\n",
        "        # Swap elemens from the begining with elements from the end.\n",
        "        input_list[i], input_list[list_length - i - 1]  = input_list[list_length - i - 1], input_list[i]\n",
        "\n",
        "# Take input from the user:\n",
        "user_input = input(\"Enter a list of elements separated by commas: \")\n",
        "original_list = [int(x) for x  in user_input.split(\",\")]\n",
        "\n",
        "# print Original List\n",
        "print(\"The original list is: \", original_list)\n",
        "\n",
        "# Reverse the List\n",
        "reverse_list(original_list)\n",
        "print(\"The reversed list is :\", original_list)"
      ]
    },
    {
      "cell_type": "markdown",
      "metadata": {},
      "source": [
        "---\n",
        "\n",
        "#### **17) Given a string `\"Hello World\"`, write a Python program to `reverse` the string without `reversing` the `individual words.`** \n",
        "\n",
        " - **`Expected Output:`** “World Hello”"
      ]
    },
    {
      "cell_type": "code",
      "execution_count": 50,
      "metadata": {},
      "outputs": [
        {
          "name": "stdout",
          "output_type": "stream",
          "text": [
            "Reversed string without reversing individual words:  World Hello\n"
          ]
        }
      ],
      "source": [
        "def reverse_word(word_str):\n",
        "    # Split the string into words\n",
        "    words = word_str.split()\n",
        "    \n",
        "    # Reverse the order of words\n",
        "    reversed_string = \" \".join(reversed(words))\n",
        "    \n",
        "    return reversed_string\n",
        "\n",
        "# Given string\n",
        "word_str = \"Hello World\"\n",
        "\n",
        "# Reverse the order of words and print the result\n",
        "result = reverse_word(word_str)\n",
        "print(\"Reversed string without reversing individual words: \", result)"
      ]
    },
    {
      "cell_type": "markdown",
      "metadata": {},
      "source": [
        "---\n",
        "\n",
        "#### **18) Implement a Python function `is_palindrome()` that `checks` whether a `passed string` is a `palindrome` (reads the same forward and backward) and tests it with \"`radar`\"**"
      ]
    },
    {
      "cell_type": "code",
      "execution_count": 51,
      "metadata": {},
      "outputs": [
        {
          "name": "stdout",
          "output_type": "stream",
          "text": [
            "\"radar\" is a palindrome\n"
          ]
        }
      ],
      "source": [
        "def is_palindrome(pal_str):\n",
        "    # Convert the string to lowercase to make the comparison case-insensitive\n",
        "    pal_str = pal_str.lower()\n",
        "    \n",
        "    # Remove non-alphanumeric character from the string\n",
        "    alnum_chars = ''.join(c for c in pal_str if c.isalnum())\n",
        "    \n",
        "    # Compare the original string with its reverse\n",
        "    return pal_str == pal_str[::-1]\n",
        "\n",
        "# Test the function with the string \"radar\"\n",
        "test_string = \"radar\"\n",
        "if is_palindrome(test_string):\n",
        "    print(f'\"{test_string}\" is a palindrome')\n",
        "else:\n",
        "    print(f'\"{test_string}\" is not a palindrome')"
      ]
    },
    {
      "cell_type": "markdown",
      "metadata": {},
      "source": [
        "---\n",
        "\n",
        "#### **19) Write a program that `returns` a `list` of `even numbers` from a `given list`.**\n",
        "\n",
        " - **Input:** [2, 5, 3, 7, 9, 53, 10, 32, 65, 76, 98]"
      ]
    },
    {
      "cell_type": "code",
      "execution_count": 52,
      "metadata": {},
      "outputs": [
        {
          "name": "stdout",
          "output_type": "stream",
          "text": [
            "List of numbers:  [2, 5, 3, 7, 9, 53, 10, 32, 65, 76, 98]\n",
            "List of even numbers:  [2, 10, 32, 76, 98]\n"
          ]
        }
      ],
      "source": [
        "def get_even_numbers(sample_list):\n",
        "    even_numbers = [num for num in sample_list if num % 2 == 0]\n",
        "    return even_numbers\n",
        "\n",
        "# sample list\n",
        "sample_list = [2, 5, 3, 7, 9, 53, 10, 32, 65, 76, 98]\n",
        "\n",
        "# Get and print the list of even numbers:\n",
        "even_numbers_list = get_even_numbers(sample_list)\n",
        "\n",
        "print(\"List of numbers: \", sample_list)\n",
        "print(\"List of even numbers: \", even_numbers_list)"
      ]
    },
    {
      "cell_type": "markdown",
      "metadata": {},
      "source": [
        "---\n",
        "\n",
        "#### **20) Given `two lists` `keys` = ['a', 'b', 'c'] and `values` = [1, 2, 3], write a Python program to `create` a `dictionary` from these `lists`.**\n",
        "\n",
        "  - **`Expected Output:`** {'a': 1, 'b': 2, 'c': 3}"
      ]
    },
    {
      "cell_type": "code",
      "execution_count": 53,
      "metadata": {},
      "outputs": [
        {
          "name": "stdout",
          "output_type": "stream",
          "text": [
            "keys of list:  ['a', 'b', 'c']\n",
            "values of list:  [1, 2, 3]\n",
            "Created  dictionary using zip():  {'a': 1, 'b': 2, 'c': 3}\n"
          ]
        }
      ],
      "source": [
        "# Given lists\n",
        "keys = [\"a\", \"b\", \"c\"]\n",
        "values = [1, 2, 3]\n",
        "\n",
        "# Create Dictionary using zip function\n",
        "result_dictionary = dict(zip(keys, values))\n",
        "\n",
        "# Print the Given lists & result dictionary:\n",
        "print(\"keys of list: \", keys)\n",
        "print(\"values of list: \", values)\n",
        "print(\"Created  dictionary using zip(): \", result_dictionary)"
      ]
    }
  ],
  "metadata": {
    "colab": {
      "provenance": []
    },
    "kernelspec": {
      "display_name": "Python 3",
      "language": "python",
      "name": "python3"
    },
    "language_info": {
      "codemirror_mode": {
        "name": "ipython",
        "version": 3
      },
      "file_extension": ".py",
      "mimetype": "text/x-python",
      "name": "python",
      "nbconvert_exporter": "python",
      "pygments_lexer": "ipython3",
      "version": "3.10.10"
    }
  },
  "nbformat": 4,
  "nbformat_minor": 0
}

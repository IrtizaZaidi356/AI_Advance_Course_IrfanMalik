{
  "cells": [
    {
      "cell_type": "markdown",
      "metadata": {
        "id": "uz317N_iAEEg"
      },
      "source": [
        "# **`Assignment No # 01`**\n",
        "## **`Hope to Skills`**\n",
        "## **Free Artificial Intelligence Advance Course**\n",
        "##### **Instructor: `Sir Irfan Malik`, `Sir Dr. Sheraz`**\n",
        "\n",
        "##### ***Name: `SYED IRTIZA ABBAS ZAIDI`***\n",
        "---"
      ]
    },
    {
      "cell_type": "markdown",
      "metadata": {
        "id": "4qMUuTJMAEEw"
      },
      "source": [
        "### **Solve the Tasks:**\n",
        "\n",
        "#### **1) Create a `List` named `fruits` containing three different `fruits` and display its `items` using `for loop:`**"
      ]
    },
    {
      "cell_type": "code",
      "execution_count": 1,
      "metadata": {
        "colab": {
          "base_uri": "https://localhost:8080/"
        },
        "id": "J1D9e4wQAEEx",
        "outputId": "6d6bf92c-9c6a-4d9a-a575-f6c9d5b066ae"
      },
      "outputs": [
        {
          "output_type": "stream",
          "name": "stdout",
          "text": [
            "\t\u001b[1mFruit Items List:\u001b[0m\n",
            "--------------------------------\n",
            "1) Apple\n",
            "2) Banana\n",
            "3) Cherry\n",
            "4) Orange\n",
            "5) Mango\n"
          ]
        }
      ],
      "source": [
        "fruits = [\"Apple\", \"Banana\", \"Cherry\", \"Orange\",\"Mango\"]\n",
        "\n",
        "print(\"\\t\\033[1mFruit Items List:\\033[0m\")\n",
        "print(\"--------------------------------\")\n",
        "\n",
        "for index, item in enumerate(fruits, start=1):\n",
        "    print(f\"{index}) {item}\")"
      ]
    },
    {
      "cell_type": "markdown",
      "metadata": {
        "id": "DpHAWSs9AEEy"
      },
      "source": [
        "---\n",
        "\n",
        "#### **2) Create a `tuple` named \"`numbers`\" with `five random numbers` and display its item using `for loop:`**"
      ]
    },
    {
      "cell_type": "code",
      "execution_count": 2,
      "metadata": {
        "colab": {
          "base_uri": "https://localhost:8080/"
        },
        "id": "wW4XJrSwAEEz",
        "outputId": "bd8e82cd-e8a5-4b83-e2c7-9856dd3d31e0"
      },
      "outputs": [
        {
          "output_type": "stream",
          "name": "stdout",
          "text": [
            "\t\u001b[1mFive Random Numbers:\u001b[0m\n",
            "-------------------------------------\n",
            "51\n",
            "28\n",
            "22\n",
            "20\n",
            "53\n"
          ]
        }
      ],
      "source": [
        "import random\n",
        "\n",
        "numbers = tuple(random.sample(range(1, 55), 5))\n",
        "\n",
        "print(\"\\t\\033[1mFive Random Numbers:\\033[0m\")\n",
        "print(\"-------------------------------------\")\n",
        "\n",
        "for i in numbers:\n",
        "    print(i)"
      ]
    },
    {
      "cell_type": "markdown",
      "metadata": {
        "id": "vdJlBZGSAEEz"
      },
      "source": [
        "#### **3) Create a `set` named \"`colors`\" with three different `colors` and display its items using `for loop:`**"
      ]
    },
    {
      "cell_type": "code",
      "execution_count": 3,
      "metadata": {
        "colab": {
          "base_uri": "https://localhost:8080/"
        },
        "id": "ayTuFdbpAEE0",
        "outputId": "e2996f26-2940-4277-8990-8213b638f287"
      },
      "outputs": [
        {
          "output_type": "stream",
          "name": "stdout",
          "text": [
            "\t\u001b[1mColors List:\u001b[0m\n",
            "------------------------------\n",
            "1) Green\n",
            "2) Red\n",
            "3) White\n",
            "4) Black\n",
            "5) Yellow\n"
          ]
        }
      ],
      "source": [
        "colors = {\"Black\", \"Red\", \"Green\", \"White\", \"Yellow\"}\n",
        "\n",
        "print(\"\\t\\033[1mColors List:\\033[0m\")\n",
        "print(\"------------------------------\")\n",
        "\n",
        "for index, color in enumerate(colors, start = 1):\n",
        "    print(f\"{index}) {color}\")"
      ]
    },
    {
      "cell_type": "markdown",
      "metadata": {
        "id": "nrWC0383AEE0"
      },
      "source": [
        "---\n",
        "\n",
        "#### **4) Create a `dictionary` named \"`student`\" with the following `key-value pairs:`**\n",
        "    \n",
        "  - \"name\" as the key and the student's name as the value.\n",
        "  - \"age\" as the key and the student's age as the value.\n",
        "  - \"grade\" as the key and the student's grade as the value.\n",
        "  - Iterate over the dictionary using the for loop and display its keys\n",
        "  - Iterate over the dictionary using the for loop and display its values\n"
      ]
    },
    {
      "cell_type": "code",
      "execution_count": 4,
      "metadata": {
        "colab": {
          "base_uri": "https://localhost:8080/"
        },
        "id": "c9yMAZu_AEE0",
        "outputId": "e27f8c6d-8d7e-4201-eca9-22ca56f1c15c"
      },
      "outputs": [
        {
          "output_type": "stream",
          "name": "stdout",
          "text": [
            "\t\u001b[1mShow the Student dictionary Keys:\u001b[0m\n",
            "---------------------------------------------------\n",
            "name\n",
            "age\n",
            "grade\n",
            "\n",
            "---------------------------------------------------\n",
            "\t\u001b[1mShow the Student dictionary Value:\u001b[0m\n",
            "---------------------------------------------------\n",
            "Ali\n",
            "23\n",
            "A\n"
          ]
        }
      ],
      "source": [
        "student = {\n",
        "    \"name\" : \"Ali\",\n",
        "    \"age\" : \"23\",\n",
        "    \"grade\" : \"A\"\n",
        "}\n",
        "print(\"\\t\\033[1mShow the Student dictionary Keys:\\033[0m\")\n",
        "print(\"---------------------------------------------------\")\n",
        "for key in student.keys():\n",
        "    print(key)\n",
        "print(\"\\n---------------------------------------------------\")\n",
        "\n",
        "print(\"\\t\\033[1mShow the Student dictionary Value:\\033[0m\")\n",
        "print(\"---------------------------------------------------\")\n",
        "for Value in student.values():\n",
        "    print(Value)"
      ]
    },
    {
      "cell_type": "markdown",
      "metadata": {
        "id": "CO8vH_omAEE1"
      },
      "source": [
        "---\n",
        "\n",
        "#### **5) Create a `multi-line string` named \"`poem`\" with a short poem of your choice:**"
      ]
    },
    {
      "cell_type": "code",
      "execution_count": 5,
      "metadata": {
        "colab": {
          "base_uri": "https://localhost:8080/"
        },
        "id": "NcsLfGO6AEE2",
        "outputId": "744a8d77-c717-4dbb-ac80-66e9bccc4a7c"
      },
      "outputs": [
        {
          "output_type": "stream",
          "name": "stdout",
          "text": [
            "---------------------------------------\n",
            "\t\u001b[1mChild’s Song In Spring\u001b[0m\n",
            "---------------------------------------\n",
            "\n",
            "The silver birch is a dainty lady,\n",
            "\t\tShe wears a satin gown;\n",
            "The elm tree makes the old churchyard shady,\n",
            "\t\tShe will not live in town.\n",
            "\n",
            "The English oak is a sturdy fellow,\n",
            "\t\tHe gets his green coat late;\n",
            "The willow is smart in a suit of yellow,\n",
            "\t\tWhile brown the beech trees wait.\n",
            "\n",
            "Such a gay green gown God gives the larches\n",
            "\t\tAs green as He is good!\n",
            "The hazels hold up their arms for arches,\n",
            "\t\tWhen Spring rides through the wood.\n",
            "\n",
            "The chestnut’s proud and the lilac’s pretty,\n",
            "\t\tThe poplar’s gentle and tall,\n",
            "But the plane tree’s kind to the poor dull city\n",
            "\t\tI love him best of all! \n"
          ]
        }
      ],
      "source": [
        "poem = \"\"\"---------------------------------------\n",
        "\\t\\033[1mChild’s Song In Spring\\033[0m\n",
        "---------------------------------------\\n\n",
        "The silver birch is a dainty lady,\n",
        "\\t\\tShe wears a satin gown;\n",
        "The elm tree makes the old churchyard shady,\n",
        "\\t\\tShe will not live in town.\\n\n",
        "The English oak is a sturdy fellow,\n",
        "\\t\\tHe gets his green coat late;\n",
        "The willow is smart in a suit of yellow,\n",
        "\\t\\tWhile brown the beech trees wait.\\n\n",
        "Such a gay green gown God gives the larches\n",
        "\\t\\tAs green as He is good!\n",
        "The hazels hold up their arms for arches,\n",
        "\\t\\tWhen Spring rides through the wood.\\n\n",
        "The chestnut’s proud and the lilac’s pretty,\n",
        "\\t\\tThe poplar’s gentle and tall,\n",
        "But the plane tree’s kind to the poor dull city\n",
        "\\t\\tI love him best of all! \"\"\"\n",
        "\n",
        "print(poem)"
      ]
    },
    {
      "cell_type": "markdown",
      "metadata": {
        "id": "_zpApW8cAEE3"
      },
      "source": [
        "#### **6) Write an `if statement` to check if the length of the \"`fruits`\" list is greater than 3. If it is, print \"`You have many fruits!`\".**"
      ]
    },
    {
      "cell_type": "code",
      "execution_count": 6,
      "metadata": {
        "colab": {
          "base_uri": "https://localhost:8080/"
        },
        "id": "BqhxZhCaAEE3",
        "outputId": "39b2acff-16d1-4d2c-daf7-2abfea70fb4f"
      },
      "outputs": [
        {
          "output_type": "stream",
          "name": "stdout",
          "text": [
            "\t\u001b[1mCheck the Length of the 'fruits' List:\u001b[0m\n",
            "-------------------------------------------------------\n",
            "\n",
            "You have many Fruits!\n"
          ]
        }
      ],
      "source": [
        "fruits = [\"Apple\", \"Banana\", \"Cherry\", \"Orange\",\"Mango\"]\n",
        "\n",
        "print(\"\\t\\033[1mCheck the Length of the 'fruits' List:\\033[0m\")\n",
        "print(\"-------------------------------------------------------\\n\")\n",
        "if len(fruits) > 3:\n",
        "    print(\"You have many Fruits!\")\n",
        "\n",
        "else:\n",
        "    print(\"You haven't many Fruits...\")"
      ]
    },
    {
      "cell_type": "markdown",
      "metadata": {
        "id": "VAVExlxnAEE4"
      },
      "source": [
        "#### **Create a program that takes a `student's numerical grade` as input and prints a corresponding letter grade. Use `if-else statements` to classify the grade into categories such as `\"A,\" \"B,\" \"C,\" \"D,\" or \"F.\"`**\n",
        "  - If the numerical grade is 90 or higher, the corresponding letter grade is \"A.\"\n",
        "  - If the numerical grade is between 80 and 89 (inclusive), the corresponding letter grade is \"B.\"\n",
        "  - If the numerical grade is between 70 and 79 (inclusive), the corresponding letter grade is \"C.\"\n",
        "  - If the numerical grade is between 60 and 69 (inclusive), the corresponding letter grade is \"D.\"\n",
        "  - If the numerical grade is below 60, the corresponding letter grade is \"F.\""
      ]
    },
    {
      "cell_type": "code",
      "execution_count": 7,
      "metadata": {
        "colab": {
          "base_uri": "https://localhost:8080/"
        },
        "id": "yBCLTSWnAEE4",
        "outputId": "cf2a9677-046a-4d87-d42d-7089eabea39c"
      },
      "outputs": [
        {
          "output_type": "stream",
          "name": "stdout",
          "text": [
            "\t\u001b[1mEnter the Marks and Check a Student Grade:\u001b[0m\n",
            "---------------------------------------------------------\n",
            "\n",
            "Enter the Student Marks: 85\n",
            "Student Marks is: 85.\n",
            "Student Grade is: 'B'.\n"
          ]
        }
      ],
      "source": [
        "print(\"\\t\\033[1mEnter the Marks and Check a Student Grade:\\033[0m\")\n",
        "print(\"---------------------------------------------------------\\n\")\n",
        "\n",
        "student_numerical_grade = int(input(\"Enter the Student Marks: \"))\n",
        "print(f\"Student Marks is: {student_numerical_grade}.\")\n",
        "\n",
        "if student_numerical_grade >= 90:\n",
        "    grade = \"A\"\n",
        "elif 80 <= student_numerical_grade <= 89:\n",
        "    grade = \"B\"\n",
        "elif 70 <= student_numerical_grade <= 79:\n",
        "    grade = \"C\"\n",
        "elif 60 <= student_numerical_grade <= 69:\n",
        "    grade = \"D\"\n",
        "else:\n",
        "    grade = \"F\"\n",
        "\n",
        "print(f\"Student Grade is: '{grade}'.\")"
      ]
    },
    {
      "cell_type": "markdown",
      "metadata": {
        "id": "dX4BtHsJAEE4"
      },
      "source": [
        "#### **Create a program that takes a `temperature` in `Celsius` as input from `user and classifies` it into categories like `\"Freezing,\" \"Cold,\" \"Moderate,\" \"Warm,\" or \"Hot.\"` Use `if-else statements` to define the `temperature ranges` for each category.**\n",
        "  - If the temperature is below -10 degrees Celsius, it's classified as \"Freezing.\"\n",
        "  - If the temperature is between -10 and 0 degrees Celsius (exclusive), it's classified as \"Cold.\"\n",
        "  - If the temperature is between 0 and 20 degrees Celsius (exclusive), it's classified as \"Moderate.\"\n",
        "  - If the temperature is between 20 and 30 degrees Celsiu (exclusive), it's classified as \"Warm.\"\n",
        "  - If the temperature is 30 degrees Celsius or above, it's classified as \"Hot.\""
      ]
    },
    {
      "cell_type": "code",
      "execution_count": 8,
      "metadata": {
        "colab": {
          "base_uri": "https://localhost:8080/"
        },
        "id": "5DXoig0fAEE5",
        "outputId": "330be964-a594-4f5e-abc3-4c0f94936229"
      },
      "outputs": [
        {
          "output_type": "stream",
          "name": "stdout",
          "text": [
            "\t\u001b[1mEnter the Temperature in Celsius:\u001b[0m\n",
            "-------------------------------------------------\n",
            "\n",
            "Enter the Temperature: -11\n",
            "Temperature is -11 degree Celsius.\n",
            "It's: Freezing.\n"
          ]
        }
      ],
      "source": [
        "print(\"\\t\\033[1mEnter the Temperature in Celsius:\\033[0m\")\n",
        "print(\"-------------------------------------------------\\n\")\n",
        "\n",
        "temperature_celsius = int(input(\"Enter the Temperature: \"))\n",
        "print(f\"Temperature is {temperature_celsius} degree Celsius.\")\n",
        "\n",
        "# Check temperature categories wise\n",
        "if temperature_celsius < -10:\n",
        "    category = \"Freezing\"\n",
        "elif -10 <= temperature_celsius < 0:\n",
        "    category = \"Cold\"\n",
        "elif 0 <= temperature_celsius < 20:\n",
        "    category = \"Moderate\"\n",
        "elif 20 <= temperature_celsius <30:\n",
        "    category = \"Warm\"\n",
        "else:\n",
        "    category = \"Hot\"\n",
        "\n",
        "print(f\"It's: {category}.\")\n",
        "\n"
      ]
    }
  ],
  "metadata": {
    "kernelspec": {
      "display_name": "Python 3",
      "language": "python",
      "name": "python3"
    },
    "language_info": {
      "codemirror_mode": {
        "name": "ipython",
        "version": 3
      },
      "file_extension": ".py",
      "mimetype": "text/x-python",
      "name": "python",
      "nbconvert_exporter": "python",
      "pygments_lexer": "ipython3",
      "version": "3.10.10"
    },
    "colab": {
      "provenance": []
    }
  },
  "nbformat": 4,
  "nbformat_minor": 0
}